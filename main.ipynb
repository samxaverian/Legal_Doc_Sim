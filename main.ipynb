{
 "cells": [
  {
   "cell_type": "code",
   "execution_count": 3,
   "metadata": {},
   "outputs": [],
   "source": [
    "import nltk\n",
    "import spacy\n",
    "import gensim\n",
    "import numpy as np\n",
    "import pandas as pd\n",
    "import os\n",
    "import networkx as nx\n",
    "from gensim import corpora\n",
    "from gensim import models\n",
    "from collections import defaultdict\n",
    "from nltk.tokenize import word_tokenize\n",
    "from itertools import combinations\n",
    "from collections import Counter"
   ]
  },
  {
   "attachments": {},
   "cell_type": "markdown",
   "metadata": {},
   "source": [
    "## Fine-tunning module"
   ]
  },
  {
   "cell_type": "code",
   "execution_count": 8,
   "metadata": {},
   "outputs": [],
   "source": [
    "from spacy.tokens.doc import Doc\n",
    "nlp = spacy.load(\"en_core_web_sm\")\n",
    "\n",
    "def find_nouns(document):\n",
    "    doc = nlp(document)\n",
    "    noun_words =[]\n",
    "    for token in doc:\n",
    "        if token.pos_ == \"NOUN\":\n",
    "            noun_words.append(token.text)\n",
    "    return noun_words\n",
    "\n",
    "def find_tfidf(processed_data):\n",
    "    text = processed_data\n",
    "    doc_set = [doc.strip() for doc in text.split('\\n')]\n",
    "    texts = [[word for word in doc.lower().split()] for doc in doc_set]\n",
    "    dictionary = corpora.Dictionary(texts)\n",
    "    doc_term_matrix = [dictionary.doc2bow(text) for text in texts]\n",
    "    tfidf = models.TfidfModel(doc_term_matrix)\n",
    "\n",
    "    df_dict = defaultdict(int)\n",
    "    for doc in doc_term_matrix:\n",
    "        for id, freq in doc:\n",
    "            df_dict[id] += 1\n",
    "\n",
    "    tfidf_dict = {}\n",
    "    for id, value in tfidf[dictionary.doc2bow(text.lower().split())]:\n",
    "        tfidf_dict[dictionary[id]] = value * df_dict[id]\n",
    "\n",
    "    mean_tfidf = sum(tfidf_dict.values()) / len(tfidf_dict)\n",
    "    important_words = [word for word in tfidf_dict if tfidf_dict[word] > mean_tfidf]\n",
    "\n",
    "    return important_words\n",
    "\n",
    "def find_concept_words(important_words,nouns):\n",
    "    important_concepts = [word for word in important_words if word in nouns]\n",
    "    return important_concepts\n",
    "\n",
    "\n",
    "def co_occurences(text):\n",
    "    sentences = [doc.strip() for doc in text.split('\\n')]\n",
    "    vocab = set(word_tokenize(text,language=\"english\"))\n",
    "    token_sent_list = [word_tokenize(sen,language=\"english\") for sen in sentences]\n",
    "    co_occ = {ii:Counter({jj:0 for jj in vocab if jj!=ii}) for ii in vocab}\n",
    "    k=2\n",
    "\n",
    "    for sen in token_sent_list:\n",
    "        for ii in range(len(sen)):\n",
    "            if ii < k:\n",
    "                c = Counter(sen[0:ii+k+1])\n",
    "                del c[sen[ii]]\n",
    "                co_occ[sen[ii]] = co_occ[sen[ii]] + c\n",
    "            elif ii > len(sen)-(k+1):\n",
    "                c = Counter(sen[ii-k::])\n",
    "                del c[sen[ii]]\n",
    "                co_occ[sen[ii]] = co_occ[sen[ii]] + c\n",
    "            else:\n",
    "                c = Counter(sen[ii-k:ii+k+1])\n",
    "                del c[sen[ii]]\n",
    "                co_occ[sen[ii]] = co_occ[sen[ii]] + c\n",
    "\n",
    "# Having final matrix in dict form \n",
    "    co_occ = {ii:dict(co_occ[ii]) for ii in vocab}\n",
    "    return co_occ\n",
    "\n",
    "def find_communities(co_occ):\n",
    "    G = nx.Graph()\n",
    "    G.add_nodes_from(important_concepts)\n",
    "    for word1 in important_concepts:\n",
    "        if word1 in co_occ:\n",
    "            for word2, weight in co_occ[word1].items():\n",
    "                if word2 in important_concepts and weight >= 3:\n",
    "                    G.add_edge(word1, word2, weight=weight)\n",
    "   # nx.draw(G,with_labels=True,node_color ='r')\n",
    "\n",
    "    communities = nx.community.girvan_newman(G)\n",
    "    good_communities =[]\n",
    "    for c in next(communities):\n",
    "        if len(c)>3:\n",
    "            good_communities.append(c)\n",
    "    return good_communities\n",
    "\n",
    "    \n"
   ]
  },
  {
   "attachments": {},
   "cell_type": "markdown",
   "metadata": {},
   "source": [
    "## Fine-tune Document-1"
   ]
  },
  {
   "cell_type": "code",
   "execution_count": 14,
   "metadata": {},
   "outputs": [],
   "source": [
    "corpus = pd.read_csv('alldoc_processed.csv')\n",
    "doc1 = corpus['text2'][10]\n",
    "doc1_p = corpus['text'][10]\n",
    "\n",
    "noun_words = find_nouns(doc1)\n",
    "important_words = find_tfidf(doc1)\n",
    "important_concepts = find_concept_words(important_words,noun_words)\n",
    "\n",
    "co_occ = co_occurences(doc1_p)\n",
    "good_communities1 = find_communities(co_occ)\n"
   ]
  },
  {
   "cell_type": "code",
   "execution_count": 15,
   "metadata": {},
   "outputs": [
    {
     "name": "stdout",
     "output_type": "stream",
     "text": [
      "{'son', 'plaintiff', 'access', 'law', 'begotten', 'marriage', 'mother', 'paternity', 'time'} <class 'set'>\n",
      "{'case', 'husband', 'hindu', 'father', 'question', 'purposes', 'gift', 'wife', 'deed', 'favour'} <class 'set'>\n",
      "{'property', 'daughter', 'gifts', 'share', 'family', 'properties', 'half'} <class 'set'>\n"
     ]
    }
   ],
   "source": [
    "for c in good_communities1:\n",
    "    print(c,type(c))"
   ]
  },
  {
   "attachments": {},
   "cell_type": "markdown",
   "metadata": {},
   "source": [
    "## Fine-tune Document-2"
   ]
  },
  {
   "cell_type": "code",
   "execution_count": 21,
   "metadata": {},
   "outputs": [],
   "source": [
    "doc2 = corpus['text2'][20]\n",
    "doc2_p = corpus['text'][20]\n",
    "\n",
    "noun_words = find_nouns(doc2)\n",
    "important_words = find_tfidf(doc2)\n",
    "important_concepts = find_concept_words(important_words,noun_words)\n",
    "\n",
    "co_occ = co_occurences(doc2_p)\n",
    "good_communities2 = find_communities(co_occ)"
   ]
  },
  {
   "cell_type": "code",
   "execution_count": 22,
   "metadata": {},
   "outputs": [
    {
     "name": "stdout",
     "output_type": "stream",
     "text": [
      "{'completion', 'period', 'question', 'tenant', 'possession', 'construction', 'exemption', 'years', 'date', 'building'} <class 'set'>\n",
      "{'rent', 'grounds', 'section', 'act', 'institution', 'eviction', 'judge', 'restriction', 'sub', 'suit', 'control', 'operation'} <class 'set'>\n"
     ]
    }
   ],
   "source": [
    "for c in good_communities2:\n",
    "    print(c,type(c))"
   ]
  },
  {
   "attachments": {},
   "cell_type": "markdown",
   "metadata": {},
   "source": [
    "## Fine-tune Document-3"
   ]
  },
  {
   "cell_type": "code",
   "execution_count": 23,
   "metadata": {},
   "outputs": [
    {
     "name": "stdout",
     "output_type": "stream",
     "text": [
      "{'provisions', 'section', 'sub', 'clause', 'date', 'agra', 'proceedings', 'use', 'furnish', 'evidence', 'force', 'thereunder', 'commencement', 'rules', 'compliance', 'particulars', 'accordance', 'act', 'amendment', 'suits', 'proviso'} <class 'set'>\n",
      "{'air', 'revenue', 'sir', 'board', 'acres', 'provinces', 'rights', 'tenant', 'rupees', 'ejectment', 'holders', 'khudkasht', 'rate', 'land', 'suit', 'holder'} <class 'set'>\n"
     ]
    }
   ],
   "source": [
    "corpus = pd.read_csv('alldoc_processed.csv')\n",
    "doc3 = corpus['text2'][0]\n",
    "doc3_p = corpus['text'][0]\n",
    "\n",
    "noun_words = find_nouns(doc3)\n",
    "important_words = find_tfidf(doc3)\n",
    "important_concepts = find_concept_words(important_words,noun_words)\n",
    "\n",
    "co_occ = co_occurences(doc3_p)\n",
    "good_communities3 = find_communities(co_occ)\n",
    "\n",
    "for c in good_communities3:\n",
    "    print(c,type(c))"
   ]
  },
  {
   "attachments": {},
   "cell_type": "markdown",
   "metadata": {},
   "source": [
    "## Vectorizing and finding cosine-similarity"
   ]
  },
  {
   "cell_type": "code",
   "execution_count": 25,
   "metadata": {},
   "outputs": [],
   "source": [
    "w2v = pd.read_csv('tfidf_weighted_word_vectors.csv',index_col=0)\n",
    "vector_document1 =[]\n",
    "vector_document2 =[]\n",
    "vector_document3 =[]\n",
    "\n",
    "for c1 in good_communities1:\n",
    "    n = len(c1)\n",
    "    v = np.zeros(shape=(200))\n",
    "    for val in c1:\n",
    "        v += w2v.loc[val,:].to_numpy()\n",
    "    vector_document1.append(v/n)\n",
    "\n",
    "for c2 in good_communities2:\n",
    "    n = len(c2)\n",
    "    v = np.zeros(shape=(200))\n",
    "    for val in c2:\n",
    "        v += w2v.loc[val,:].to_numpy()\n",
    "    vector_document2.append(v/n)\n",
    "\n",
    "for c3 in good_communities3:\n",
    "    n = len(c3)\n",
    "    v = np.zeros(shape=(200))\n",
    "    for val in c3:\n",
    "        v += w2v.loc[val,:].to_numpy()\n",
    "    vector_document3.append(v/n)\n",
    "\n",
    "\n",
    "    "
   ]
  },
  {
   "attachments": {},
   "cell_type": "markdown",
   "metadata": {},
   "source": [
    "## Finding Similarity between Doc-1 and Doc-3"
   ]
  },
  {
   "cell_type": "code",
   "execution_count": 26,
   "metadata": {},
   "outputs": [],
   "source": [
    "from sklearn.metrics.pairwise import cosine_similarity\n",
    "m = len(vector_document1)\n",
    "n = len(vector_document3)\n",
    "# create a mxn matrix to store the cosine similarity values\n",
    "cos_sim_matrix1 = [[0 for j in range(n)] for i in range(m)]\n",
    "\n",
    "# compute the cosine similarity between each pair of vectors in the two lists\n",
    "for i in range(m):\n",
    "    for j in range(n):\n",
    "        cos_sim_matrix1[i][j] = cosine_similarity([vector_document1[i]], [vector_document3[j]])[0][0]\n",
    "\n"
   ]
  },
  {
   "cell_type": "code",
   "execution_count": 28,
   "metadata": {},
   "outputs": [
    {
     "data": {
      "image/png": "[encoded data removed]",
      "text/plain": [
       "<Figure size 640x480 with 2 Axes>"
      ]
     },
     "metadata": {},
     "output_type": "display_data"
    }
   ],
   "source": [
    "\n",
    "import matplotlib.pyplot as plt\n",
    "import numpy as np\n",
    "\n",
    "# assume you have already computed the cosine similarity matrix as a mxn numpy array\n",
    "\n",
    "# create a heatmap of the cosine similarity matrix\n",
    "fig, ax = plt.subplots()\n",
    "im = ax.imshow(cos_sim_matrix1)\n",
    "\n",
    "# set the tick labels for the x and y axes\n",
    "ax.set_xticks(np.arange(n))\n",
    "ax.set_yticks(np.arange(m))\n",
    "ax.set_xticklabels([str(i) for i in range(n)])\n",
    "ax.set_yticklabels([str(i) for i in range(m)])\n",
    "\n",
    "# set the axis labels and title\n",
    "ax.set_xlabel('Doc 3')\n",
    "ax.set_ylabel('Doc 1')\n",
    "ax.set_title('Cosine Similarity Matrix')\n",
    "\n",
    "# add a colorbar to show the correspondence between the color scale and the similarity values\n",
    "cbar = ax.figure.colorbar(im, ax=ax)\n",
    "cbar.ax.set_ylabel('Similarity', rotation=-90, va='bottom')\n",
    "\n",
    "# display the heatmap\n",
    "plt.show()\n",
    "\n"
   ]
  },
  {
   "attachments": {},
   "cell_type": "markdown",
   "metadata": {},
   "source": [
    "## Finding similarity of Doc-2 and Doc-3"
   ]
  },
  {
   "cell_type": "code",
   "execution_count": 29,
   "metadata": {},
   "outputs": [],
   "source": [
    "from sklearn.metrics.pairwise import cosine_similarity\n",
    "m = len(vector_document2)\n",
    "n = len(vector_document3)\n",
    "# create a mxn matrix to store the cosine similarity values\n",
    "cos_sim_matrix2 = [[0 for j in range(n)] for i in range(m)]\n",
    "\n",
    "# compute the cosine similarity between each pair of vectors in the two lists\n",
    "for i in range(m):\n",
    "    for j in range(n):\n",
    "        cos_sim_matrix2[i][j] = cosine_similarity([vector_document2[i]], [vector_document3[j]])[0][0]\n",
    "\n"
   ]
  },
  {
   "cell_type": "code",
   "execution_count": 30,
   "metadata": {},
   "outputs": [
    {
     "data": {
      "image/png": "[encoded data removed]",
      "text/plain": [
       "<Figure size 640x480 with 2 Axes>"
      ]
     },
     "metadata": {},
     "output_type": "display_data"
    }
   ],
   "source": [
    "import matplotlib.pyplot as plt\n",
    "import numpy as np\n",
    "\n",
    "# assume you have already computed the cosine similarity matrix as a mxn numpy array\n",
    "\n",
    "# create a heatmap of the cosine similarity matrix\n",
    "fig, ax = plt.subplots()\n",
    "im = ax.imshow(cos_sim_matrix2)\n",
    "\n",
    "# set the tick labels for the x and y axes\n",
    "ax.set_xticks(np.arange(n))\n",
    "ax.set_yticks(np.arange(m))\n",
    "ax.set_xticklabels([str(i) for i in range(n)])\n",
    "ax.set_yticklabels([str(i) for i in range(m)])\n",
    "\n",
    "# set the axis labels and title\n",
    "ax.set_xlabel('Doc 3')\n",
    "ax.set_ylabel('Doc 2')\n",
    "ax.set_title('Cosine Similarity Matrix')\n",
    "\n",
    "# add a colorbar to show the correspondence between the color scale and the similarity values\n",
    "cbar = ax.figure.colorbar(im, ax=ax)\n",
    "cbar.ax.set_ylabel('Similarity', rotation=-90, va='bottom')\n",
    "\n",
    "# display the heatmap\n",
    "plt.show()\n",
    "\n"
   ]
  }
 ],
 "metadata": {
  "kernelspec": {
   "display_name": "nlp",
   "language": "python",
   "name": "python3"
  },
  "language_info": {
   "codemirror_mode": {
    "name": "ipython",
    "version": 3
   },
   "file_extension": ".py",
   "mimetype": "text/x-python",
   "name": "python",
   "nbconvert_exporter": "python",
   "pygments_lexer": "ipython3",
   "version": "3.11.2"
  },
  "orig_nbformat": 4
 },
 "nbformat": 4,
 "nbformat_minor": 2
}
