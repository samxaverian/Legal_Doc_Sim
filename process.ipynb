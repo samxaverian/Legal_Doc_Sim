{
 "cells": [
  {
   "cell_type": "code",
   "execution_count": 1,
   "metadata": {},
   "outputs": [],
   "source": [
    "import nltk\n",
    "import spacy\n",
    "import gensim\n",
    "import numpy as np\n",
    "import pandas as pd\n",
    "import os\n",
    "from tqdm import tqdm"
   ]
  },
  {
   "cell_type": "code",
   "execution_count": 2,
   "metadata": {},
   "outputs": [],
   "source": [
    "data_path = './new_data/'\n",
    "from spacy.tokens.doc import Doc\n",
    "nlp = spacy.load(\"en_core_web_sm\")\n",
    "from spacy.lang.en.stop_words import STOP_WORDS\n",
    "from string import punctuation\n",
    "from collections import Counter\n",
    "stop_words = list(STOP_WORDS)\n",
    "legal_stop_words = ['petitioner','petition','respondent','respondents','court','appellant','appellants','appeal','trial']"
   ]
  },
  {
   "cell_type": "code",
   "execution_count": 3,
   "metadata": {},
   "outputs": [],
   "source": [
    "def remove_stopwords(text):\n",
    "    keywords = []\n",
    "    doc = nlp(text)\n",
    "    for token in doc:\n",
    "        if(token.text not in STOP_WORDS ):\n",
    "                keywords.append(token.text)\n",
    "    return ' '.join(keywords)"
   ]
  },
  {
   "cell_type": "code",
   "execution_count": 4,
   "metadata": {},
   "outputs": [],
   "source": [
    "def remove_punctuation(text):\n",
    "    keywords = []\n",
    "    doc = nlp(text)\n",
    "    for token in doc:\n",
    "        if(token.text not in punctuation ):\n",
    "                keywords.append(token.text)\n",
    "    return ' '.join(keywords)"
   ]
  },
  {
   "cell_type": "code",
   "execution_count": 5,
   "metadata": {},
   "outputs": [],
   "source": [
    "def remove_legalwords(text):\n",
    "    keywords = []\n",
    "    doc = nlp(text)\n",
    "    for token in doc:\n",
    "        if(token.text not in legal_stop_words ):\n",
    "                keywords.append(token.text)\n",
    "    return ' '.join(keywords)"
   ]
  },
  {
   "cell_type": "code",
   "execution_count": 36,
   "metadata": {},
   "outputs": [],
   "source": [
    "alldoc_processed = pd.DataFrame(columns=[\"filename\",\"text\"])"
   ]
  },
  {
   "cell_type": "code",
   "execution_count": 30,
   "metadata": {},
   "outputs": [],
   "source": [
    "def preprocess(data_path):\n",
    "    filename = \"\"\n",
    "    for textfile in tqdm(os.listdir(data_path)):\n",
    "        filename = os.path.join(data_path,textfile)\n",
    "        f = open(filename,'r',encoding='iso-8859-15')\n",
    "        text = f.read()\n",
    "        text = text.lower()\n",
    "        text = remove_stopwords(text)\n",
    "       # text = remove_punctuation(text)\n",
    "        text = remove_legalwords(text)\n",
    "        alldoc_processed.loc[len(alldoc_processed)] = [filename,text]\n",
    "        \n",
    "    return"
   ]
  },
  {
   "cell_type": "code",
   "execution_count": 38,
   "metadata": {},
   "outputs": [
    {
     "name": "stderr",
     "output_type": "stream",
     "text": [
      "100%|██████████| 9372/9372 [2:41:37<00:00,  1.03s/it]  \n"
     ]
    }
   ],
   "source": [
    "preprocess(data_path)"
   ]
  },
  {
   "cell_type": "code",
   "execution_count": 40,
   "metadata": {},
   "outputs": [
    {
     "data": {
      "text/html": [
       "<div>\n",
       "<style scoped>\n",
       "    .dataframe tbody tr th:only-of-type {\n",
       "        vertical-align: middle;\n",
       "    }\n",
       "\n",
       "    .dataframe tbody tr th {\n",
       "        vertical-align: top;\n",
       "    }\n",
       "\n",
       "    .dataframe thead th {\n",
       "        text-align: right;\n",
       "    }\n",
       "</style>\n",
       "<table border=\"1\" class=\"dataframe\">\n",
       "  <thead>\n",
       "    <tr style=\"text-align: right;\">\n",
       "      <th></th>\n",
       "      <th>filename</th>\n",
       "      <th>text</th>\n",
       "    </tr>\n",
       "  </thead>\n",
       "  <tbody>\n",
       "    <tr>\n",
       "      <th>0</th>\n",
       "      <td>./new_data/1962_166769.txt</td>\n",
       "      <td>presented applications    set          ...</td>\n",
       "    </tr>\n",
       "    <tr>\n",
       "      <th>1</th>\n",
       "      <td>./new_data/1987_1832926.txt</td>\n",
       "      <td>convicted      high contempt order sentenced f...</td>\n",
       "    </tr>\n",
       "    <tr>\n",
       "      <th>2</th>\n",
       "      <td>./new_data/1986_779020.txt</td>\n",
       "      <td>purport    effect      impugned    notificatio...</td>\n",
       "    </tr>\n",
       "    <tr>\n",
       "      <th>3</th>\n",
       "      <td>./new_data/1973_882228.txt</td>\n",
       "      <td>m.     m. kshatriya , ( w.p . \\n  p.     k. ch...</td>\n",
       "    </tr>\n",
       "    <tr>\n",
       "      <th>4</th>\n",
       "      <td>./new_data/1971_1272668.txt</td>\n",
       "      <td>public limited company owning    running in...</td>\n",
       "    </tr>\n",
       "  </tbody>\n",
       "</table>\n",
       "</div>"
      ],
      "text/plain": [
       "                      filename  \\\n",
       "0   ./new_data/1962_166769.txt   \n",
       "1  ./new_data/1987_1832926.txt   \n",
       "2   ./new_data/1986_779020.txt   \n",
       "3   ./new_data/1973_882228.txt   \n",
       "4  ./new_data/1971_1272668.txt   \n",
       "\n",
       "                                                text  \n",
       "0         presented applications    set          ...  \n",
       "1  convicted      high contempt order sentenced f...  \n",
       "2  purport    effect      impugned    notificatio...  \n",
       "3  m.     m. kshatriya , ( w.p . \\n  p.     k. ch...  \n",
       "4     public limited company owning    running in...  "
      ]
     },
     "execution_count": 40,
     "metadata": {},
     "output_type": "execute_result"
    }
   ],
   "source": [
    "alldoc_processed.head()"
   ]
  },
  {
   "cell_type": "code",
   "execution_count": 43,
   "metadata": {},
   "outputs": [],
   "source": [
    "pd.DataFrame.to_csv(alldoc_processed,'alldoc_processed.csv')"
   ]
  },
  {
   "cell_type": "code",
   "execution_count": 16,
   "metadata": {},
   "outputs": [],
   "source": [
    "df = pd.read_csv('alldoc_processed.csv')"
   ]
  },
  {
   "cell_type": "code",
   "execution_count": 17,
   "metadata": {},
   "outputs": [
    {
     "data": {
      "text/html": [
       "<div>\n",
       "<style scoped>\n",
       "    .dataframe tbody tr th:only-of-type {\n",
       "        vertical-align: middle;\n",
       "    }\n",
       "\n",
       "    .dataframe tbody tr th {\n",
       "        vertical-align: top;\n",
       "    }\n",
       "\n",
       "    .dataframe thead th {\n",
       "        text-align: right;\n",
       "    }\n",
       "</style>\n",
       "<table border=\"1\" class=\"dataframe\">\n",
       "  <thead>\n",
       "    <tr style=\"text-align: right;\">\n",
       "      <th></th>\n",
       "      <th>Unnamed: 0</th>\n",
       "      <th>filename</th>\n",
       "      <th>text</th>\n",
       "      <th>text2</th>\n",
       "    </tr>\n",
       "  </thead>\n",
       "  <tbody>\n",
       "    <tr>\n",
       "      <th>0</th>\n",
       "      <td>0</td>\n",
       "      <td>./new_data/1962_166769.txt</td>\n",
       "      <td>presented applications    set          ...</td>\n",
       "      <td>presented applications     set        ...</td>\n",
       "    </tr>\n",
       "    <tr>\n",
       "      <th>1</th>\n",
       "      <td>1</td>\n",
       "      <td>./new_data/1987_1832926.txt</td>\n",
       "      <td>convicted      high contempt order sentenced f...</td>\n",
       "      <td>convicted       high contempt order sentenced ...</td>\n",
       "    </tr>\n",
       "    <tr>\n",
       "      <th>2</th>\n",
       "      <td>2</td>\n",
       "      <td>./new_data/1986_779020.txt</td>\n",
       "      <td>purport    effect      impugned    notificatio...</td>\n",
       "      <td>purport     effect       impugned     notifica...</td>\n",
       "    </tr>\n",
       "    <tr>\n",
       "      <th>3</th>\n",
       "      <td>3</td>\n",
       "      <td>./new_data/1973_882228.txt</td>\n",
       "      <td>m.     m. kshatriya , ( w.p . \\n  p.     k. ch...</td>\n",
       "      <td>m.      m. kshatriya w.p \\n   p.      k. chatt...</td>\n",
       "    </tr>\n",
       "    <tr>\n",
       "      <th>4</th>\n",
       "      <td>4</td>\n",
       "      <td>./new_data/1971_1272668.txt</td>\n",
       "      <td>public limited company owning    running in...</td>\n",
       "      <td>public limited company owning     running ...</td>\n",
       "    </tr>\n",
       "  </tbody>\n",
       "</table>\n",
       "</div>"
      ],
      "text/plain": [
       "   Unnamed: 0                     filename  \\\n",
       "0           0   ./new_data/1962_166769.txt   \n",
       "1           1  ./new_data/1987_1832926.txt   \n",
       "2           2   ./new_data/1986_779020.txt   \n",
       "3           3   ./new_data/1973_882228.txt   \n",
       "4           4  ./new_data/1971_1272668.txt   \n",
       "\n",
       "                                                text  \\\n",
       "0         presented applications    set          ...   \n",
       "1  convicted      high contempt order sentenced f...   \n",
       "2  purport    effect      impugned    notificatio...   \n",
       "3  m.     m. kshatriya , ( w.p . \\n  p.     k. ch...   \n",
       "4     public limited company owning    running in...   \n",
       "\n",
       "                                               text2  \n",
       "0          presented applications     set        ...  \n",
       "1  convicted       high contempt order sentenced ...  \n",
       "2  purport     effect       impugned     notifica...  \n",
       "3  m.      m. kshatriya w.p \\n   p.      k. chatt...  \n",
       "4      public limited company owning     running ...  "
      ]
     },
     "execution_count": 17,
     "metadata": {},
     "output_type": "execute_result"
    }
   ],
   "source": [
    "df.head()"
   ]
  },
  {
   "cell_type": "code",
   "execution_count": 11,
   "metadata": {},
   "outputs": [],
   "source": [
    "df['text2'] =np.nan"
   ]
  },
  {
   "cell_type": "code",
   "execution_count": 13,
   "metadata": {},
   "outputs": [
    {
     "name": "stderr",
     "output_type": "stream",
     "text": [
      "  0%|          | 0/9372 [00:00<?, ?it/s]/tmp/ipykernel_8858/221827822.py:4: SettingWithCopyWarning: \n",
      "A value is trying to be set on a copy of a slice from a DataFrame\n",
      "\n",
      "See the caveats in the documentation: https://pandas.pydata.org/pandas-docs/stable/user_guide/indexing.html#returning-a-view-versus-a-copy\n",
      "  df['text2'][i] = text\n",
      "100%|██████████| 9372/9372 [55:10<00:00,  2.83it/s]  \n"
     ]
    }
   ],
   "source": [
    "for i in tqdm(range(len(df))):\n",
    "    text = df['text'][i]\n",
    "    text = remove_punctuation(text)\n",
    "    df['text2'][i] = text"
   ]
  },
  {
   "cell_type": "code",
   "execution_count": 14,
   "metadata": {},
   "outputs": [
    {
     "data": {
      "text/html": [
       "<div>\n",
       "<style scoped>\n",
       "    .dataframe tbody tr th:only-of-type {\n",
       "        vertical-align: middle;\n",
       "    }\n",
       "\n",
       "    .dataframe tbody tr th {\n",
       "        vertical-align: top;\n",
       "    }\n",
       "\n",
       "    .dataframe thead th {\n",
       "        text-align: right;\n",
       "    }\n",
       "</style>\n",
       "<table border=\"1\" class=\"dataframe\">\n",
       "  <thead>\n",
       "    <tr style=\"text-align: right;\">\n",
       "      <th></th>\n",
       "      <th>Unnamed: 0</th>\n",
       "      <th>filename</th>\n",
       "      <th>text</th>\n",
       "      <th>text2</th>\n",
       "    </tr>\n",
       "  </thead>\n",
       "  <tbody>\n",
       "    <tr>\n",
       "      <th>0</th>\n",
       "      <td>0</td>\n",
       "      <td>./new_data/1962_166769.txt</td>\n",
       "      <td>presented applications    set          ...</td>\n",
       "      <td>presented applications     set        ...</td>\n",
       "    </tr>\n",
       "    <tr>\n",
       "      <th>1</th>\n",
       "      <td>1</td>\n",
       "      <td>./new_data/1987_1832926.txt</td>\n",
       "      <td>convicted      high contempt order sentenced f...</td>\n",
       "      <td>convicted       high contempt order sentenced ...</td>\n",
       "    </tr>\n",
       "    <tr>\n",
       "      <th>2</th>\n",
       "      <td>2</td>\n",
       "      <td>./new_data/1986_779020.txt</td>\n",
       "      <td>purport    effect      impugned    notificatio...</td>\n",
       "      <td>purport     effect       impugned     notifica...</td>\n",
       "    </tr>\n",
       "    <tr>\n",
       "      <th>3</th>\n",
       "      <td>3</td>\n",
       "      <td>./new_data/1973_882228.txt</td>\n",
       "      <td>m.     m. kshatriya , ( w.p . \\n  p.     k. ch...</td>\n",
       "      <td>m.      m. kshatriya w.p \\n   p.      k. chatt...</td>\n",
       "    </tr>\n",
       "    <tr>\n",
       "      <th>4</th>\n",
       "      <td>4</td>\n",
       "      <td>./new_data/1971_1272668.txt</td>\n",
       "      <td>public limited company owning    running in...</td>\n",
       "      <td>public limited company owning     running ...</td>\n",
       "    </tr>\n",
       "  </tbody>\n",
       "</table>\n",
       "</div>"
      ],
      "text/plain": [
       "   Unnamed: 0                     filename  \\\n",
       "0           0   ./new_data/1962_166769.txt   \n",
       "1           1  ./new_data/1987_1832926.txt   \n",
       "2           2   ./new_data/1986_779020.txt   \n",
       "3           3   ./new_data/1973_882228.txt   \n",
       "4           4  ./new_data/1971_1272668.txt   \n",
       "\n",
       "                                                text  \\\n",
       "0         presented applications    set          ...   \n",
       "1  convicted      high contempt order sentenced f...   \n",
       "2  purport    effect      impugned    notificatio...   \n",
       "3  m.     m. kshatriya , ( w.p . \\n  p.     k. ch...   \n",
       "4     public limited company owning    running in...   \n",
       "\n",
       "                                               text2  \n",
       "0          presented applications     set        ...  \n",
       "1  convicted       high contempt order sentenced ...  \n",
       "2  purport     effect       impugned     notifica...  \n",
       "3  m.      m. kshatriya w.p \\n   p.      k. chatt...  \n",
       "4      public limited company owning     running ...  "
      ]
     },
     "execution_count": 14,
     "metadata": {},
     "output_type": "execute_result"
    }
   ],
   "source": [
    "df.head()"
   ]
  },
  {
   "cell_type": "code",
   "execution_count": 15,
   "metadata": {},
   "outputs": [],
   "source": [
    "pd.DataFrame.to_csv(df,'alldoc_processed.csv',index=False)"
   ]
  }
 ],
 "metadata": {
  "kernelspec": {
   "display_name": "nlp",
   "language": "python",
   "name": "python3"
  },
  "language_info": {
   "codemirror_mode": {
    "name": "ipython",
    "version": 3
   },
   "file_extension": ".py",
   "mimetype": "text/x-python",
   "name": "python",
   "nbconvert_exporter": "python",
   "pygments_lexer": "ipython3",
   "version": "3.11.2"
  },
  "orig_nbformat": 4,
  "vscode": {
   "interpreter": {
    "hash": "afac02a5529171656ce1355e25b22bf95ef14f98f0c70a389ddb62360131e9b2"
   }
  }
 },
 "nbformat": 4,
 "nbformat_minor": 2
}
